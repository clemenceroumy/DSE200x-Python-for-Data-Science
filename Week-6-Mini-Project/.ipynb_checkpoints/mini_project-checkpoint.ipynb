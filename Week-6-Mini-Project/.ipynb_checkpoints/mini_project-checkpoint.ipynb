{
 "cells": [
  {
   "cell_type": "markdown",
   "metadata": {},
   "source": [
    "# MINI PROJECT WEEK 6"
   ]
  },
  {
   "cell_type": "markdown",
   "metadata": {},
   "source": [
    "Data from **https://www.kaggle.com/worldbank/world-development-indicators**"
   ]
  },
  {
   "cell_type": "markdown",
   "metadata": {},
   "source": [
    "The goal is to see the evolution of population (rural vs urban) is France"
   ]
  },
  {
   "cell_type": "code",
   "execution_count": 31,
   "metadata": {},
   "outputs": [],
   "source": [
    "import pandas as pd\n",
    "import numpy as np\n",
    "import matplotlib.pyplot as plt"
   ]
  },
  {
   "cell_type": "code",
   "execution_count": 5,
   "metadata": {},
   "outputs": [],
   "source": [
    "dataSet = pd.read_csv('../Week-5-Visualization/world-development-indicators/Indicators.csv')"
   ]
  },
  {
   "cell_type": "code",
   "execution_count": 10,
   "metadata": {},
   "outputs": [
    {
     "data": {
      "text/plain": [
       "(5656458, 6)"
      ]
     },
     "execution_count": 10,
     "metadata": {},
     "output_type": "execute_result"
    }
   ],
   "source": [
    "dataSet.shape"
   ]
  },
  {
   "cell_type": "markdown",
   "metadata": {},
   "source": [
    "Getting only data related to France"
   ]
  },
  {
   "cell_type": "code",
   "execution_count": 30,
   "metadata": {},
   "outputs": [
    {
     "data": {
      "text/plain": [
       "(26371, 6)"
      ]
     },
     "execution_count": 30,
     "metadata": {},
     "output_type": "execute_result"
    }
   ],
   "source": [
    "isFrance = dataSet[\"CountryName\"] == \"France\"\n",
    "\n",
    "franceData = dataSet[isFrance]\n",
    "franceData.shape"
   ]
  },
  {
   "cell_type": "markdown",
   "metadata": {},
   "source": [
    "Export the DataFrame that contain only data related to France to a CSV file.\n",
    "With that file, I can import it on Google Sheet to better see wich Indicators are interesting. Then I can pick the most interesting to me in order to formulate my goal/question to answer. "
   ]
  },
  {
   "cell_type": "code",
   "execution_count": 19,
   "metadata": {},
   "outputs": [],
   "source": [
    "export_csv = franceData.to_csv (r'C:\\Users\\Cleme\\Desktop\\DSE200x_Python_DS\\Week-6-Mini-Project\\france_dataframe.csv', index = None, header=True)"
   ]
  },
  {
   "cell_type": "markdown",
   "metadata": {},
   "source": [
    "I chose to compare the % of rural vs urban population to see the variation between the years (from 1960 to 2014)"
   ]
  },
  {
   "cell_type": "code",
   "execution_count": 25,
   "metadata": {},
   "outputs": [],
   "source": [
    "ruralMask = dataSet[\"IndicatorCode\"] == \"SP.RUR.TOTL.ZS\" # % of rural population\n",
    "urbanMask = dataSet[\"IndicatorCode\"] == \"SP.URB.TOTL.IN.ZS\" # % of urban population"
   ]
  },
  {
   "cell_type": "markdown",
   "metadata": {},
   "source": [
    "## Rural population"
   ]
  },
  {
   "cell_type": "code",
   "execution_count": 26,
   "metadata": {},
   "outputs": [
    {
     "data": {
      "text/html": [
       "<div>\n",
       "<style scoped>\n",
       "    .dataframe tbody tr th:only-of-type {\n",
       "        vertical-align: middle;\n",
       "    }\n",
       "\n",
       "    .dataframe tbody tr th {\n",
       "        vertical-align: top;\n",
       "    }\n",
       "\n",
       "    .dataframe thead th {\n",
       "        text-align: right;\n",
       "    }\n",
       "</style>\n",
       "<table border=\"1\" class=\"dataframe\">\n",
       "  <thead>\n",
       "    <tr style=\"text-align: right;\">\n",
       "      <th></th>\n",
       "      <th>CountryName</th>\n",
       "      <th>CountryCode</th>\n",
       "      <th>IndicatorName</th>\n",
       "      <th>IndicatorCode</th>\n",
       "      <th>Year</th>\n",
       "      <th>Value</th>\n",
       "    </tr>\n",
       "  </thead>\n",
       "  <tbody>\n",
       "    <tr>\n",
       "      <th>9718</th>\n",
       "      <td>France</td>\n",
       "      <td>FRA</td>\n",
       "      <td>Rural population (% of total population)</td>\n",
       "      <td>SP.RUR.TOTL.ZS</td>\n",
       "      <td>1960</td>\n",
       "      <td>38.120</td>\n",
       "    </tr>\n",
       "    <tr>\n",
       "      <th>34388</th>\n",
       "      <td>France</td>\n",
       "      <td>FRA</td>\n",
       "      <td>Rural population (% of total population)</td>\n",
       "      <td>SP.RUR.TOTL.ZS</td>\n",
       "      <td>1961</td>\n",
       "      <td>37.393</td>\n",
       "    </tr>\n",
       "    <tr>\n",
       "      <th>61813</th>\n",
       "      <td>France</td>\n",
       "      <td>FRA</td>\n",
       "      <td>Rural population (% of total population)</td>\n",
       "      <td>SP.RUR.TOTL.ZS</td>\n",
       "      <td>1962</td>\n",
       "      <td>36.511</td>\n",
       "    </tr>\n",
       "    <tr>\n",
       "      <th>90257</th>\n",
       "      <td>France</td>\n",
       "      <td>FRA</td>\n",
       "      <td>Rural population (% of total population)</td>\n",
       "      <td>SP.RUR.TOTL.ZS</td>\n",
       "      <td>1963</td>\n",
       "      <td>35.298</td>\n",
       "    </tr>\n",
       "    <tr>\n",
       "      <th>118989</th>\n",
       "      <td>France</td>\n",
       "      <td>FRA</td>\n",
       "      <td>Rural population (% of total population)</td>\n",
       "      <td>SP.RUR.TOTL.ZS</td>\n",
       "      <td>1964</td>\n",
       "      <td>34.102</td>\n",
       "    </tr>\n",
       "  </tbody>\n",
       "</table>\n",
       "</div>"
      ],
      "text/plain": [
       "       CountryName CountryCode                             IndicatorName  \\\n",
       "9718        France         FRA  Rural population (% of total population)   \n",
       "34388       France         FRA  Rural population (% of total population)   \n",
       "61813       France         FRA  Rural population (% of total population)   \n",
       "90257       France         FRA  Rural population (% of total population)   \n",
       "118989      France         FRA  Rural population (% of total population)   \n",
       "\n",
       "         IndicatorCode  Year   Value  \n",
       "9718    SP.RUR.TOTL.ZS  1960  38.120  \n",
       "34388   SP.RUR.TOTL.ZS  1961  37.393  \n",
       "61813   SP.RUR.TOTL.ZS  1962  36.511  \n",
       "90257   SP.RUR.TOTL.ZS  1963  35.298  \n",
       "118989  SP.RUR.TOTL.ZS  1964  34.102  "
      ]
     },
     "execution_count": 26,
     "metadata": {},
     "output_type": "execute_result"
    }
   ],
   "source": [
    "dataRural = dataSet[isFrance & ruralMask]\n",
    "dataRural.head()"
   ]
  },
  {
   "cell_type": "markdown",
   "metadata": {},
   "source": [
    "Now, I can use Mathplotlib to construct a graphic"
   ]
  },
  {
   "cell_type": "code",
   "execution_count": 42,
   "metadata": {},
   "outputs": [
    {
     "data": {
      "image/png": "[encoded data removed]",
      "text/plain": [
       "<Figure size 432x288 with 1 Axes>"
      ]
     },
     "metadata": {
      "needs_background": "light"
     },
     "output_type": "display_data"
    }
   ],
   "source": [
    "plt.plot(dataRural['Year'].values, dataRural['Value'].values)\n",
    "\n",
    "# Label the axes\n",
    "plt.xlabel('Year')\n",
    "plt.ylabel(dataRural['IndicatorName'].iloc[0])\n",
    "\n",
    "#label the figure\n",
    "plt.title('Evolution of the population in rural places')\n",
    "\n",
    "# to make more honest, start they y axis at 0\n",
    "plt.axis([1959, 2015,0,100])\n",
    "\n",
    "plt.show()"
   ]
  },
  {
   "cell_type": "markdown",
   "metadata": {},
   "source": [
    "## Urban population"
   ]
  },
  {
   "cell_type": "code",
   "execution_count": 38,
   "metadata": {},
   "outputs": [
    {
     "data": {
      "text/html": [
       "<div>\n",
       "<style scoped>\n",
       "    .dataframe tbody tr th:only-of-type {\n",
       "        vertical-align: middle;\n",
       "    }\n",
       "\n",
       "    .dataframe tbody tr th {\n",
       "        vertical-align: top;\n",
       "    }\n",
       "\n",
       "    .dataframe thead th {\n",
       "        text-align: right;\n",
       "    }\n",
       "</style>\n",
       "<table border=\"1\" class=\"dataframe\">\n",
       "  <thead>\n",
       "    <tr style=\"text-align: right;\">\n",
       "      <th></th>\n",
       "      <th>CountryName</th>\n",
       "      <th>CountryCode</th>\n",
       "      <th>IndicatorName</th>\n",
       "      <th>IndicatorCode</th>\n",
       "      <th>Year</th>\n",
       "      <th>Value</th>\n",
       "    </tr>\n",
       "  </thead>\n",
       "  <tbody>\n",
       "    <tr>\n",
       "      <th>9730</th>\n",
       "      <td>France</td>\n",
       "      <td>FRA</td>\n",
       "      <td>Urban population (% of total)</td>\n",
       "      <td>SP.URB.TOTL.IN.ZS</td>\n",
       "      <td>1960</td>\n",
       "      <td>61.880</td>\n",
       "    </tr>\n",
       "    <tr>\n",
       "      <th>34401</th>\n",
       "      <td>France</td>\n",
       "      <td>FRA</td>\n",
       "      <td>Urban population (% of total)</td>\n",
       "      <td>SP.URB.TOTL.IN.ZS</td>\n",
       "      <td>1961</td>\n",
       "      <td>62.607</td>\n",
       "    </tr>\n",
       "    <tr>\n",
       "      <th>61826</th>\n",
       "      <td>France</td>\n",
       "      <td>FRA</td>\n",
       "      <td>Urban population (% of total)</td>\n",
       "      <td>SP.URB.TOTL.IN.ZS</td>\n",
       "      <td>1962</td>\n",
       "      <td>63.489</td>\n",
       "    </tr>\n",
       "    <tr>\n",
       "      <th>90271</th>\n",
       "      <td>France</td>\n",
       "      <td>FRA</td>\n",
       "      <td>Urban population (% of total)</td>\n",
       "      <td>SP.URB.TOTL.IN.ZS</td>\n",
       "      <td>1963</td>\n",
       "      <td>64.702</td>\n",
       "    </tr>\n",
       "    <tr>\n",
       "      <th>119003</th>\n",
       "      <td>France</td>\n",
       "      <td>FRA</td>\n",
       "      <td>Urban population (% of total)</td>\n",
       "      <td>SP.URB.TOTL.IN.ZS</td>\n",
       "      <td>1964</td>\n",
       "      <td>65.898</td>\n",
       "    </tr>\n",
       "  </tbody>\n",
       "</table>\n",
       "</div>"
      ],
      "text/plain": [
       "       CountryName CountryCode                  IndicatorName  \\\n",
       "9730        France         FRA  Urban population (% of total)   \n",
       "34401       France         FRA  Urban population (% of total)   \n",
       "61826       France         FRA  Urban population (% of total)   \n",
       "90271       France         FRA  Urban population (% of total)   \n",
       "119003      France         FRA  Urban population (% of total)   \n",
       "\n",
       "            IndicatorCode  Year   Value  \n",
       "9730    SP.URB.TOTL.IN.ZS  1960  61.880  \n",
       "34401   SP.URB.TOTL.IN.ZS  1961  62.607  \n",
       "61826   SP.URB.TOTL.IN.ZS  1962  63.489  \n",
       "90271   SP.URB.TOTL.IN.ZS  1963  64.702  \n",
       "119003  SP.URB.TOTL.IN.ZS  1964  65.898  "
      ]
     },
     "execution_count": 38,
     "metadata": {},
     "output_type": "execute_result"
    }
   ],
   "source": [
    "dataUrban = dataSet[isFrance & urbanMask]\n",
    "dataUrban.head()"
   ]
  },
  {
   "cell_type": "code",
   "execution_count": 44,
   "metadata": {},
   "outputs": [
    {
     "data": {
      "image/png": "[encoded data removed]",
      "text/plain": [
       "<Figure size 432x288 with 1 Axes>"
      ]
     },
     "metadata": {
      "needs_background": "light"
     },
     "output_type": "display_data"
    }
   ],
   "source": [
    "plt.plot(dataUrban['Year'].values, dataUrban['Value'].values, )\n",
    "\n",
    "# Label the axes\n",
    "plt.xlabel('Year')\n",
    "plt.ylabel(dataUrban['IndicatorName'].iloc[0])\n",
    "\n",
    "#label the figure\n",
    "plt.title('Evolution of the population in urban places')\n",
    "\n",
    "# to make more honest, start they y axis at 0\n",
    "plt.axis([1959, 2015,0,100])\n",
    "\n",
    "plt.show()"
   ]
  },
  {
   "cell_type": "markdown",
   "metadata": {},
   "source": [
    "## Compare both"
   ]
  },
  {
   "cell_type": "code",
   "execution_count": 48,
   "metadata": {},
   "outputs": [
    {
     "data": {
      "image/png": "[encoded data removed]",
      "text/plain": [
       "<Figure size 432x288 with 1 Axes>"
      ]
     },
     "metadata": {
      "needs_background": "light"
     },
     "output_type": "display_data"
    }
   ],
   "source": [
    "plt.plot(dataUrban['Year'].values, dataUrban['Value'].values, dataRural[\"Year\"].values, dataRural['Value'].values)\n",
    "\n",
    "# Label the axes\n",
    "plt.xlabel('Year')\n",
    "plt.ylabel('% of population')\n",
    "\n",
    "\n",
    "#label the figure\n",
    "plt.title('Evolution of the population in urban vs rural places')\n",
    "\n",
    "# to make more honest, start they y axis at 0\n",
    "plt.axis([1959, 2015,0,100])\n",
    "\n",
    "plt.show()"
   ]
  },
  {
   "cell_type": "markdown",
   "metadata": {},
   "source": [
    "The <span style=\"color:blue\">blue</span> line correspond to the <span style=\"color:blue\">urban</span> population meanwhile the <span style=\"color:orange\">orange</span> line correspond to the <span style=\"color:orange\">rural</span> population."
   ]
  },
  {
   "cell_type": "markdown",
   "metadata": {},
   "source": [
    "# Conclusion"
   ]
  },
  {
   "cell_type": "markdown",
   "metadata": {},
   "source": [
    "As we can see (and that was expected), both lines are symetrics. Indeed, when a person go to an urban place, she left a rural place.\n",
    "\n",
    "In 1970, 60% of the population lived in urban places, against 40% in rural places. In 2014, about 80% of the population lived in urban places against 20% in rural ones. That's an **augmentation of 20% in 54 years**. \n",
    "\n",
    "We can observe a slight augmentation of about 10% of the population going to urban place in 10 years (1960 to 1970). \n",
    "Then, we can see a slow progression from 1970 to 2014 (+10% in 44 years)."
   ]
  }
 ],
 "metadata": {
  "kernelspec": {
   "display_name": "Python 3",
   "language": "python",
   "name": "python3"
  },
  "language_info": {
   "codemirror_mode": {
    "name": "ipython",
    "version": 3
   },
   "file_extension": ".py",
   "mimetype": "text/x-python",
   "name": "python",
   "nbconvert_exporter": "python",
   "pygments_lexer": "ipython3",
   "version": "3.7.3"
  }
 },
 "nbformat": 4,
 "nbformat_minor": 2
}
